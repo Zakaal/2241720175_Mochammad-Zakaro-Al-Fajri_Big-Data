{
 "cells": [
  {
   "cell_type": "code",
   "execution_count": 1,
   "id": "bd6b58c3-0577-4cb8-b868-72b14464770c",
   "metadata": {},
   "outputs": [],
   "source": [
    "from pyspark.sql import SparkSession\n",
    "\n",
    "spark = SparkSession.builder.appName(\"OutlierDetection\").getOrCreate()\n",
    "\n",
    "df = spark.read.csv(\"/opt/spark_data/ecommerce_transactions_1000.csv\", header=True, inferSchema=True)\n",
    "df = df.fillna({\"amount\":0})\n",
    "df = df.withColumn(\"amount\", df[\"amount\"].cast(\"double\"))\n"
   ]
  },
  {
   "cell_type": "code",
   "execution_count": 2,
   "id": "de5e8cf3-0540-4c48-a442-59da7d07692b",
   "metadata": {},
   "outputs": [
    {
     "name": "stdout",
     "output_type": "stream",
     "text": [
      "Q1 = 0.0, Q3 = 24763.06, IQR = 24763.06\n",
      "Lower Bound = -37144.590000000004, Upper Bound = 61907.65000000001\n"
     ]
    }
   ],
   "source": [
    "quantiles = df.approxQuantile(\"amount\", [0.25, 0.75], 0.05)\n",
    "Q1, Q3 = quantiles\n",
    "IQR = Q3 - Q1\n",
    "\n",
    "lower_bound = Q1 -  1.5 * IQR\n",
    "upper_bound = Q3 +  1.5 * IQR\n",
    "\n",
    "print(f\"Q1 = {Q1}, Q3 = {Q3}, IQR = {IQR}\")\n",
    "print(f\"Lower Bound = {lower_bound}, Upper Bound = {upper_bound}\")"
   ]
  },
  {
   "cell_type": "code",
   "execution_count": 6,
   "id": "21997089-97cc-4a7a-8b5f-63729f41bb1e",
   "metadata": {},
   "outputs": [
    {
     "name": "stdout",
     "output_type": "stream",
     "text": [
      "+--------------+-------+--------+--------------------+-------------------+\n",
      "|transaction_id|user_id|  amount|               email|   transaction_time|\n",
      "+--------------+-------+--------+--------------------+-------------------+\n",
      "|         T0002|   U253|70921.08| porteramy@yahoo.com|2025-03-30 21:07:41|\n",
      "|         T0005|   U064|81176.73|   louis64@gmail.com|2025-04-14 08:50:35|\n",
      "|         T0011|   U093| 82119.7|roberttucker@john...|2025-04-20 02:52:35|\n",
      "|         T0012|   U279| 63515.6|brucesmith@gmail.com|2025-04-20 09:58:53|\n",
      "|         T0035|   U180|74468.55|michaelcarey@gmai...|2025-04-01 16:09:24|\n",
      "|         T0036|   U066|88464.76|stephanie50@yahoo...|2025-04-11 05:50:57|\n",
      "|         T0049|   U050|93898.14|carlsonjames@gard...|2025-04-05 03:12:16|\n",
      "|         T0052|   U088|70959.19|jessica48@hotmail...|2025-04-25 00:09:15|\n",
      "|         T0060|   U265|80521.08|      kaitlynsalazar|2025-04-10 17:07:00|\n",
      "|         T0063|   U098|87681.99|         rachelhayes|2025-04-13 16:25:19|\n",
      "|         T0066|   U108|80296.12|    jill11@gmail.com|2025-04-03 09:51:20|\n",
      "|         T0067|   U183|98103.36|danielramirez@hot...|2025-04-19 08:54:15|\n",
      "|         T0075|   U131|89574.63|jonesgeorge@yahoo...|2025-04-14 00:16:53|\n",
      "|         T0076|   U199|95746.19|              eric18|2025-03-29 22:51:17|\n",
      "|         T0081|   U209|63408.75|    tara00@gmail.com|2025-04-22 15:38:34|\n",
      "|         T0090|   U043|73488.49|   scott49@gmail.com|2025-04-08 18:42:41|\n",
      "|         T0095|   U031|72250.11|    ryan82@brown.com|2025-04-06 08:18:57|\n",
      "|         T0097|   U065|82322.29|    kaustin@soto.com|2025-04-18 15:16:49|\n",
      "|         T0099|   U108|95527.61|walterelliott@yah...|2025-04-07 10:00:41|\n",
      "|         T0100|   U044|64732.73|              ayoung|2025-04-10 10:08:57|\n",
      "+--------------+-------+--------+--------------------+-------------------+\n",
      "only showing top 20 rows\n",
      "\n"
     ]
    }
   ],
   "source": [
    "outliers = df.filter((df.amount < lower_bound) | (df.amount > upper_bound))\n",
    "outliers.show()"
   ]
  },
  {
   "cell_type": "code",
   "execution_count": 7,
   "id": "1bd2fb8b-7f73-48c7-8751-5da596a024cf",
   "metadata": {},
   "outputs": [
    {
     "name": "stdout",
     "output_type": "stream",
     "text": [
      "Jumlah Outliers:  158\n"
     ]
    }
   ],
   "source": [
    "print(\"Jumlah Outliers: \", outliers.count())"
   ]
  },
  {
   "cell_type": "code",
   "execution_count": 11,
   "id": "b5d5025f-d9e0-43c9-adb1-fe0a0de8eb00",
   "metadata": {},
   "outputs": [
    {
     "name": "stdout",
     "output_type": "stream",
     "text": [
      "Top 5 transaksi dengan amount terbesar\n",
      "+--------------+-------+--------+--------------------+-------------------+\n",
      "|transaction_id|user_id|  amount|               email|   transaction_time|\n",
      "+--------------+-------+--------+--------------------+-------------------+\n",
      "|         T0437|   U233|99830.84|franklincraig@gma...|2025-03-31 01:07:47|\n",
      "|         T0175|   U224|99410.65|natalie63@hotmail...|2025-04-10 14:15:20|\n",
      "|         T0320|   U046|99399.22|bonniemack@yahoo.com|2025-04-05 21:15:08|\n",
      "|         T0115|   U148|98589.66|          hillsophia|2025-03-29 20:30:24|\n",
      "|         T0451|   U293|98343.68|  sean46@walters.com|2025-04-17 14:27:35|\n",
      "+--------------+-------+--------+--------------------+-------------------+\n",
      "\n"
     ]
    }
   ],
   "source": [
    "from pyspark.sql.functions import col\n",
    "\n",
    "amount5 = df.orderBy(col(\"amount\").desc()).limit(5)\n",
    "print(\"Top 5 transaksi dengan amount terbesar\")\n",
    "amount5.show()"
   ]
  },
  {
   "cell_type": "code",
   "execution_count": 12,
   "id": "4e3a41fd-56e6-418c-90e8-71559de5248f",
   "metadata": {},
   "outputs": [
    {
     "name": "stdout",
     "output_type": "stream",
     "text": [
      "Jumlah total transaksi: 1000\n"
     ]
    }
   ],
   "source": [
    "total_transaksi = df.count()\n",
    "print(f\"Jumlah total transaksi: {total_transaksi}\")\n"
   ]
  },
  {
   "cell_type": "code",
   "execution_count": 13,
   "id": "7c95e453-832a-4caf-82eb-a218a5aedf2c",
   "metadata": {},
   "outputs": [
    {
     "name": "stdout",
     "output_type": "stream",
     "text": [
      "Total pendapatan dari seluruh transaksi: 19644994.95\n"
     ]
    }
   ],
   "source": [
    "from pyspark.sql.functions import sum as spark_sum\n",
    "\n",
    "total_pendapatan = df.select(spark_sum(\"amount\")).collect()[0][0]\n",
    "print(f\"Total pendapatan dari seluruh transaksi: {total_pendapatan}\")\n"
   ]
  },
  {
   "cell_type": "code",
   "execution_count": 14,
   "id": "85b82766-aea7-42d7-b6f2-5e5209d613d4",
   "metadata": {},
   "outputs": [
    {
     "name": "stdout",
     "output_type": "stream",
     "text": [
      "Jumlah Outliers:  158\n"
     ]
    }
   ],
   "source": [
    "print(\"Jumlah Outliers: \", outliers.count())"
   ]
  },
  {
   "cell_type": "code",
   "execution_count": 17,
   "id": "a908a188-9ecc-45be-9729-d7913523e6fe",
   "metadata": {},
   "outputs": [
    {
     "name": "stdout",
     "output_type": "stream",
     "text": [
      "Persentase outlier terhadap seluruh transaksi: 15.80%\n"
     ]
    }
   ],
   "source": [
    "outliers_count = outliers.count()  \n",
    "\n",
    "total_transaksi = df.count()\n",
    "\n",
    "persentase_outlier = (outliers_count / total_transaksi) * 100\n",
    "\n",
    "print(f\"Persentase outlier terhadap seluruh transaksi: {persentase_outlier:.2f}%\")\n"
   ]
  },
  {
   "cell_type": "code",
   "execution_count": null,
   "id": "e88c312e-7499-4a46-8d5a-b69c482f98bf",
   "metadata": {},
   "outputs": [],
   "source": []
  }
 ],
 "metadata": {
  "kernelspec": {
   "display_name": "Python 3 (ipykernel)",
   "language": "python",
   "name": "python3"
  },
  "language_info": {
   "codemirror_mode": {
    "name": "ipython",
    "version": 3
   },
   "file_extension": ".py",
   "mimetype": "text/x-python",
   "name": "python",
   "nbconvert_exporter": "python",
   "pygments_lexer": "ipython3",
   "version": "3.11.6"
  }
 },
 "nbformat": 4,
 "nbformat_minor": 5
}
