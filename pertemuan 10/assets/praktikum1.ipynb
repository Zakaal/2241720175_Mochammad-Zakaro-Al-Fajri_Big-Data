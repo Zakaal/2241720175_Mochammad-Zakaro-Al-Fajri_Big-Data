{
 "cells": [
  {
   "cell_type": "code",
   "execution_count": 40,
   "id": "78a47552-e672-4981-876b-f4901a84df68",
   "metadata": {},
   "outputs": [
    {
     "name": "stdout",
     "output_type": "stream",
     "text": [
      "+--------------+-------+--------+--------------------+-------------------+\n",
      "|transaction_id|user_id|  amount|               email|   transaction_time|\n",
      "+--------------+-------+--------+--------------------+-------------------+\n",
      "|         T0001|   U069|    NULL|jeffreyfisher@gma...|2025-04-20 08:00:02|\n",
      "|         T0002|   U253|70921.08| porteramy@yahoo.com|2025-03-30 21:07:41|\n",
      "|         T0003|   U222|42313.74|  jerome93@yahoo.com|2025-04-20 10:50:30|\n",
      "|         T0004|   U187|    NULL|jimeneztamara@sny...|2025-04-05 11:48:29|\n",
      "|         T0005|   U064|81176.73|   louis64@gmail.com|2025-04-14 08:50:35|\n",
      "+--------------+-------+--------+--------------------+-------------------+\n",
      "only showing top 5 rows\n",
      "\n"
     ]
    }
   ],
   "source": [
    "from pyspark.sql import SparkSession\n",
    "\n",
    "spark = SparkSession.builder.appName(\"DataCleaningBigData\").getOrCreate()\n",
    "\n",
    "df = spark.read.csv(\"/opt/spark_data/ecommerce_transactions_1000.csv\", header=True, inferSchema=True)\n",
    "df.show(5)\n"
   ]
  },
  {
   "cell_type": "code",
   "execution_count": 41,
   "id": "edb2bfa8-0c4d-403d-bacd-b6809e0fc2ab",
   "metadata": {},
   "outputs": [
    {
     "name": "stdout",
     "output_type": "stream",
     "text": [
      "root\n",
      " |-- transaction_id: string (nullable = true)\n",
      " |-- user_id: string (nullable = true)\n",
      " |-- amount: double (nullable = true)\n",
      " |-- email: string (nullable = true)\n",
      " |-- transaction_time: timestamp (nullable = true)\n",
      "\n"
     ]
    }
   ],
   "source": [
    "df.printSchema()"
   ]
  },
  {
   "cell_type": "code",
   "execution_count": 42,
   "id": "b0fc9c8d-a1c5-4585-b51e-64a5b0ce456a",
   "metadata": {},
   "outputs": [
    {
     "name": "stdout",
     "output_type": "stream",
     "text": [
      "+--------------+-------+------+-----+----------------+\n",
      "|transaction_id|user_id|amount|email|transaction_time|\n",
      "+--------------+-------+------+-----+----------------+\n",
      "|             0|      0|   316|    0|              50|\n",
      "+--------------+-------+------+-----+----------------+\n",
      "\n"
     ]
    }
   ],
   "source": [
    "from pyspark.sql.functions import col, when, count\n",
    "\n",
    "df.select([count(when(col(c).isNull(), c)).alias(c) for c in df.columns]).show()"
   ]
  },
  {
   "cell_type": "code",
   "execution_count": 43,
   "id": "f4908259-b4b3-43ee-a737-6b88adb62355",
   "metadata": {},
   "outputs": [
    {
     "name": "stdout",
     "output_type": "stream",
     "text": [
      "Jumlah baris: 1000\n"
     ]
    }
   ],
   "source": [
    "print(\"Jumlah baris:\", df.count())"
   ]
  },
  {
   "cell_type": "code",
   "execution_count": 44,
   "id": "525a2a24-a23e-4079-9857-618d741e24ac",
   "metadata": {},
   "outputs": [],
   "source": [
    "df = df.dropna(subset=[\"transaction_time\"])\n",
    "df = df.fillna({\"amount\": 0})"
   ]
  },
  {
   "cell_type": "code",
   "execution_count": 45,
   "id": "f3cffd38-96b3-4923-bdbe-f1410482b5cc",
   "metadata": {},
   "outputs": [
    {
     "name": "stdout",
     "output_type": "stream",
     "text": [
      "+--------------+-------+------+-----+----------------+\n",
      "|transaction_id|user_id|amount|email|transaction_time|\n",
      "+--------------+-------+------+-----+----------------+\n",
      "|             0|      0|     0|    0|               0|\n",
      "+--------------+-------+------+-----+----------------+\n",
      "\n"
     ]
    }
   ],
   "source": [
    "df.select([count(when(col(c).isNull(), c)).alias(c) for c in df.columns]).show()"
   ]
  },
  {
   "cell_type": "code",
   "execution_count": 47,
   "id": "86d3514b-e993-4b4b-bf1c-cb4c91cb0a73",
   "metadata": {},
   "outputs": [],
   "source": [
    "from pyspark.sql.functions import instr, substring_index\n",
    "\n",
    "df = df.withColumn(\"email_domain\", substring_index(\"email\", \"@\", -1))\n",
    "\n",
    "df = df.filter(instr(col(\"email\"), \"@\") > 0)"
   ]
  },
  {
   "cell_type": "code",
   "execution_count": 48,
   "id": "49587e8a-b8a8-4027-a092-013cbc5d923f",
   "metadata": {},
   "outputs": [
    {
     "name": "stdout",
     "output_type": "stream",
     "text": [
      "+-------------------+\n",
      "|invalid_email_count|\n",
      "+-------------------+\n",
      "|                  0|\n",
      "+-------------------+\n",
      "\n"
     ]
    }
   ],
   "source": [
    "from pyspark.sql.functions import col, when, count\n",
    "\n",
    "df.select(\n",
    "    count(\n",
    "        when(~col(\"email\").contains(\"@\"), True)\n",
    "    ).alias(\"invalid_email_count\")\n",
    ").show()\n",
    "\n"
   ]
  },
  {
   "cell_type": "code",
   "execution_count": 49,
   "id": "a4a60dde-6481-4bfe-8616-c15883f9c581",
   "metadata": {},
   "outputs": [],
   "source": [
    "from pyspark.sql.types import DoubleType\n",
    "from pyspark.sql.functions import to_date, col\n",
    "\n",
    "df = df.withColumn(\"amount\", col(\"amount\").cast(DoubleType()))\n",
    "df = df.withColumn(\"transaction_date\", to_date(col(\"transaction_time\")))\n"
   ]
  },
  {
   "cell_type": "code",
   "execution_count": 50,
   "id": "4ad578ff-9bdf-4a97-a933-695e7fbbebd6",
   "metadata": {},
   "outputs": [],
   "source": [
    "final = df.toPandas()\n",
    "\n",
    "final.to_csv(\"work/cleaned_transactions_1000.csv\", index=False)\n"
   ]
  },
  {
   "cell_type": "code",
   "execution_count": 22,
   "id": "6ffdfd99-c82d-4dcc-ba10-b84bf57bed4c",
   "metadata": {},
   "outputs": [
    {
     "name": "stdout",
     "output_type": "stream",
     "text": [
      "['transaction_id', 'user_id', 'amount', 'email', 'transaction_time', 'email_domain', 'transaction_date']\n"
     ]
    }
   ],
   "source": [
    "print(df.columns)"
   ]
  },
  {
   "cell_type": "code",
   "execution_count": 23,
   "id": "ce8f60c1-ba6a-4505-8304-83903f49fbcb",
   "metadata": {},
   "outputs": [
    {
     "data": {
      "text/plain": [
       "867"
      ]
     },
     "execution_count": 23,
     "metadata": {},
     "output_type": "execute_result"
    }
   ],
   "source": [
    "df.filter(col(\"transaction_date\").isNotNull()).count()\n"
   ]
  },
  {
   "cell_type": "code",
   "execution_count": 51,
   "id": "ade380d0-99a0-43ba-b146-b7fcb9771375",
   "metadata": {},
   "outputs": [
    {
     "name": "stdout",
     "output_type": "stream",
     "text": [
      "Index(['transaction_id', 'user_id', 'amount', 'email', 'transaction_time',\n",
      "       'email_domain', 'transaction_date'],\n",
      "      dtype='object')\n",
      "  transaction_id user_id    amount                          email  \\\n",
      "0          T0001    U069      0.00        jeffreyfisher@gmail.com   \n",
      "1          T0002    U253  70921.08            porteramy@yahoo.com   \n",
      "2          T0003    U222  42313.74             jerome93@yahoo.com   \n",
      "3          T0004    U187      0.00  jimeneztamara@snyder-shaw.com   \n",
      "4          T0005    U064  81176.73              louis64@gmail.com   \n",
      "\n",
      "     transaction_time     email_domain transaction_date  \n",
      "0 2025-04-20 08:00:02        gmail.com       2025-04-20  \n",
      "1 2025-03-30 21:07:41        yahoo.com       2025-03-30  \n",
      "2 2025-04-20 10:50:30        yahoo.com       2025-04-20  \n",
      "3 2025-04-05 11:48:29  snyder-shaw.com       2025-04-05  \n",
      "4 2025-04-14 08:50:35        gmail.com       2025-04-14  \n"
     ]
    }
   ],
   "source": [
    "final = df.toPandas()\n",
    "print(final.columns)\n",
    "print(final.head())\n"
   ]
  },
  {
   "cell_type": "code",
   "execution_count": 26,
   "id": "5670b9c1-3fb6-4964-bbf3-d008fadd8cde",
   "metadata": {},
   "outputs": [],
   "source": [
    "final = df.toPandas()\n",
    "final.to_csv(\"work/cleaned_transactions_1000.csv\", index=False)"
   ]
  },
  {
   "cell_type": "code",
   "execution_count": 34,
   "id": "fb9a2588-eafe-4963-9208-8c6f99f8b1a1",
   "metadata": {},
   "outputs": [
    {
     "name": "stdout",
     "output_type": "stream",
     "text": [
      "Jumlah nilai 'amount' yang numerik : 867\n"
     ]
    }
   ],
   "source": [
    "df.se"
   ]
  },
  {
   "cell_type": "code",
   "execution_count": 52,
   "id": "f2cf8abe-a620-480f-b94e-3117c68f75e8",
   "metadata": {},
   "outputs": [
    {
     "name": "stdout",
     "output_type": "stream",
     "text": [
      "Top 5 transaksi dengan amount terbesar\n",
      "+--------------+-------+--------+--------------------+-------------------+------------+----------------+\n",
      "|transaction_id|user_id|  amount|               email|   transaction_time|email_domain|transaction_date|\n",
      "+--------------+-------+--------+--------------------+-------------------+------------+----------------+\n",
      "|         T0437|   U233|99830.84|franklincraig@gma...|2025-03-31 01:07:47|   gmail.com|      2025-03-31|\n",
      "|         T0175|   U224|99410.65|natalie63@hotmail...|2025-04-10 14:15:20| hotmail.com|      2025-04-10|\n",
      "|         T0320|   U046|99399.22|bonniemack@yahoo.com|2025-04-05 21:15:08|   yahoo.com|      2025-04-05|\n",
      "|         T0451|   U293|98343.68|  sean46@walters.com|2025-04-17 14:27:35| walters.com|      2025-04-17|\n",
      "|         T0067|   U183|98103.36|danielramirez@hot...|2025-04-19 08:54:15| hotmail.com|      2025-04-19|\n",
      "+--------------+-------+--------+--------------------+-------------------+------------+----------------+\n",
      "\n"
     ]
    }
   ],
   "source": [
    "from pyspark.sql.functions import col\n",
    "\n",
    "amount5 = df.orderBy(col(\"amount\").desc()).limit(5)\n",
    "print(\"Top 5 transaksi dengan amount terbesar\")\n",
    "amount5.show()"
   ]
  },
  {
   "cell_type": "code",
   "execution_count": 53,
   "id": "639e8c60-38f2-415e-99b1-cd2b62e48484",
   "metadata": {},
   "outputs": [
    {
     "name": "stdout",
     "output_type": "stream",
     "text": [
      "Jumlah total transaksi: 867\n"
     ]
    }
   ],
   "source": [
    "total_transaksi = df.count()\n",
    "print(f\"Jumlah total transaksi: {total_transaksi}\")\n"
   ]
  },
  {
   "cell_type": "code",
   "execution_count": 54,
   "id": "c69df2c7-dfa9-4271-969e-57566ea7072f",
   "metadata": {},
   "outputs": [
    {
     "name": "stdout",
     "output_type": "stream",
     "text": [
      "Total pendapatan dari seluruh transaksi: 16922579.86999999\n"
     ]
    }
   ],
   "source": [
    "from pyspark.sql.functions import sum as spark_sum\n",
    "\n",
    "total_pendapatan = df.select(spark_sum(\"amount\")).collect()[0][0]\n",
    "print(f\"Total pendapatan dari seluruh transaksi: {total_pendapatan}\")\n"
   ]
  },
  {
   "cell_type": "code",
   "execution_count": 61,
   "id": "38bff9f5-0c9b-4577-a87d-f0bf9ecd70ad",
   "metadata": {},
   "outputs": [
    {
     "name": "stdout",
     "output_type": "stream",
     "text": [
      "Q1 = 0.0, Q3 = 30029.83, IQR = 30029.83\n",
      "Lower Bound = -45044.745, Upper Bound = 75074.57500000001\n",
      "Jumlah Outliers :  86\n"
     ]
    }
   ],
   "source": [
    "quantiles = df.approxQuantile(\"amount\", [0.25, 0.75], 0.05)\n",
    "Q1, Q3 = quantiles\n",
    "IQR = Q3 - Q1\n",
    "\n",
    "lower_bound = Q1 -  1.5 * IQR\n",
    "upper_bound = Q3 +  1.5 * IQR\n",
    "\n",
    "print(f\"Q1 = {Q1}, Q3 = {Q3}, IQR = {IQR}\")\n",
    "print(f\"Lower Bound = {lower_bound}, Upper Bound = {upper_bound}\")\n",
    "outliers = df.filter((df.amount < lower_bound) | (df.amount > upper_bound))\n",
    "print(\"Jumlah Outliers : \", outliers.count())"
   ]
  },
  {
   "cell_type": "code",
   "execution_count": 62,
   "id": "afbe8e4c-201b-4422-a715-546f49b11bed",
   "metadata": {},
   "outputs": [
    {
     "name": "stdout",
     "output_type": "stream",
     "text": [
      "Persentase outlier terhadap seluruh transaksi: 9.92%\n"
     ]
    }
   ],
   "source": [
    "outliers_count = outliers.count()  \n",
    "\n",
    "total_transaksi = df.count()\n",
    "\n",
    "persentase_outlier = (outliers_count / total_transaksi) * 100\n",
    "print(f\"Persentase outlier terhadap seluruh transaksi: {persentase_outlier:.2f}%\")"
   ]
  },
  {
   "cell_type": "code",
   "execution_count": null,
   "id": "7e6aaec5-8942-4812-ba9c-51b300cfe0a9",
   "metadata": {},
   "outputs": [],
   "source": []
  }
 ],
 "metadata": {
  "kernelspec": {
   "display_name": "Python 3 (ipykernel)",
   "language": "python",
   "name": "python3"
  },
  "language_info": {
   "codemirror_mode": {
    "name": "ipython",
    "version": 3
   },
   "file_extension": ".py",
   "mimetype": "text/x-python",
   "name": "python",
   "nbconvert_exporter": "python",
   "pygments_lexer": "ipython3",
   "version": "3.11.6"
  }
 },
 "nbformat": 4,
 "nbformat_minor": 5
}
