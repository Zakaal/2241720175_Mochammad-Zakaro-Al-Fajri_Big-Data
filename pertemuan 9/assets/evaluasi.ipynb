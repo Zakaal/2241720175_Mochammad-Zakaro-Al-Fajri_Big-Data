{
 "cells": [
  {
   "cell_type": "code",
   "execution_count": 1,
   "id": "87f08224-3ecd-43ef-a6a5-5abb7201b0c2",
   "metadata": {},
   "outputs": [
    {
     "name": "stdout",
     "output_type": "stream",
     "text": [
      "+--------------------+-----+----------+\n",
      "|                nama|absen|       nim|\n",
      "+--------------------+-----+----------+\n",
      "|Mochammad Zakaro ...|   10|2241720175|\n",
      "+--------------------+-----+----------+\n",
      "\n"
     ]
    }
   ],
   "source": [
    "from pyspark.sql import SparkSession\n",
    "\n",
    "# Membuat SparkSession dengan driver MySQL\n",
    "spark = SparkSession.builder \\\n",
    "    .appName(\"Read MySQL Table\") \\\n",
    "    .config(\"spark.jars\", \"install/usr/share/java/mysql-connector-j-8.0.33.jar\") \\\n",
    "    .getOrCreate()\n",
    "\n",
    "# Baca tabel dari database MySQL\n",
    "df = spark.read.format(\"jdbc\") \\\n",
    "    .option(\"url\", \"jdbc:mysql://host.docker.internal:3306/big_data\") \\\n",
    "    .option(\"dbtable\", \"mahasiswa\") \\\n",
    "    .option(\"user\", \"root\") \\\n",
    "    .option(\"password\", \"\") \\\n",
    "    .option(\"driver\", \"com.mysql.cj.jdbc.Driver\") \\\n",
    "    .load()\n",
    "\n",
    "# Menampilkan 5 baris pertama untuk cek\n",
    "df.show(5)\n"
   ]
  },
  {
   "cell_type": "code",
   "execution_count": 3,
   "id": "28742dd8-fb40-48bd-8037-b358e8fa6763",
   "metadata": {},
   "outputs": [
    {
     "name": "stdout",
     "output_type": "stream",
     "text": [
      "+---------+\n",
      "|total_row|\n",
      "+---------+\n",
      "|        1|\n",
      "+---------+\n",
      "\n"
     ]
    }
   ],
   "source": [
    "df.createOrReplaceTempView(\"mahasiswa\")\n",
    "\n",
    "jumlah_baris = spark.sql(\"SELECT COUNT(*) AS total_row FROM mahasiswa\")\n",
    "\n",
    "jumlah_baris.show()"
   ]
  },
  {
   "cell_type": "code",
   "execution_count": null,
   "id": "da30c6c0-8e15-49a9-b33b-cc046468306e",
   "metadata": {},
   "outputs": [],
   "source": []
  }
 ],
 "metadata": {
  "kernelspec": {
   "display_name": "Python 3 (ipykernel)",
   "language": "python",
   "name": "python3"
  },
  "language_info": {
   "codemirror_mode": {
    "name": "ipython",
    "version": 3
   },
   "file_extension": ".py",
   "mimetype": "text/x-python",
   "name": "python",
   "nbconvert_exporter": "python",
   "pygments_lexer": "ipython3",
   "version": "3.11.6"
  }
 },
 "nbformat": 4,
 "nbformat_minor": 5
}
