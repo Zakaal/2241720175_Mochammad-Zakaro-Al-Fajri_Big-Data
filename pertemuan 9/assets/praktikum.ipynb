{
 "cells": [
  {
   "cell_type": "code",
   "execution_count": 4,
   "id": "c75e7d95-61bb-4701-88d9-5b18f5694f16",
   "metadata": {},
   "outputs": [
    {
     "name": "stdout",
     "output_type": "stream",
     "text": [
      "+----------------+-----------+\n",
      "|Product_Category|total_sales|\n",
      "+----------------+-----------+\n",
      "|        Clothing|    8198902|\n",
      "|     Accessories|   13559164|\n",
      "|           Bikes|   61782134|\n",
      "+----------------+-----------+\n",
      "\n"
     ]
    }
   ],
   "source": [
    "# Membangun ETL Pipeline\n",
    "from pyspark.sql import SparkSession\n",
    "from pyspark.sql.functions import col, sum\n",
    "\n",
    "spark = SparkSession.builder.appName(\"ETLPipeline\").getOrCreate()\n",
    "\n",
    "df = spark.read.csv(\"sales_data.csv\", header=True, inferSchema=True)\n",
    "\n",
    "df_filtered = df.filter(col(\"Revenue\")>100)\n",
    "df_result = df_filtered.groupBy(\"Product_Category\").agg(sum(\"Revenue\").alias(\"total_sales\"))\n",
    "\n",
    "df_result.write.mode(\"overwrite\").parquet(\"output_sales.parquet\")\n",
    "\n",
    "df_result.show()\n",
    "spark.stop()"
   ]
  },
  {
   "cell_type": "code",
   "execution_count": 6,
   "id": "66526715-3eb2-4689-8aba-5a710f3c2100",
   "metadata": {},
   "outputs": [
    {
     "name": "stdout",
     "output_type": "stream",
     "text": [
      "+-----+-------------+\n",
      "|month|total_revenue|\n",
      "+-----+-------------+\n",
      "|   12|     10158080|\n",
      "|    1|      7832338|\n",
      "|    6|     10085537|\n",
      "|    3|      8201790|\n",
      "|    5|      9859851|\n",
      "|    9|      6517880|\n",
      "|    4|      8485163|\n",
      "|    8|      6348349|\n",
      "|    7|      6392045|\n",
      "|   10|      6709394|\n",
      "|   11|      6977157|\n",
      "|    2|      7608734|\n",
      "+-----+-------------+\n",
      "\n"
     ]
    }
   ],
   "source": [
    "# Melihat pendapatan perbulan\n",
    "from pyspark.sql import SparkSession\n",
    "from pyspark.sql.functions import month, sum, count\n",
    "\n",
    "spark = SparkSession.builder.appName(\"ETLPipeline\").getOrCreate()\n",
    "\n",
    "df = spark.read.csv(\"sales_data.csv\", header=True, inferSchema=True)\n",
    "\n",
    "df_revenue = df.withColumn(\"month\", month(\"Date\")) \\\n",
    "               .groupBy(\"month\") \\\n",
    "               .agg(sum(df[\"Unit_Price\"]*df[\"Order_Quantity\"]).alias(\"total_revenue\"))\n",
    "\n",
    "df_revenue.show()"
   ]
  },
  {
   "cell_type": "code",
   "execution_count": 8,
   "id": "61a32db1-cd9e-401d-bc49-86c19bd733b0",
   "metadata": {},
   "outputs": [
    {
     "name": "stdout",
     "output_type": "stream",
     "text": [
      "+--------------------+------------+\n",
      "|             Product|total_orders|\n",
      "+--------------------+------------+\n",
      "|Water Bottle - 30...|       10794|\n",
      "| Patch Kit/8 Patches|       10416|\n",
      "|  Mountain Tire Tube|        6816|\n",
      "|        AWC Logo Cap|        4358|\n",
      "|Sport-100 Helmet,...|        4220|\n",
      "+--------------------+------------+\n",
      "\n"
     ]
    }
   ],
   "source": [
    "# Identifikasi 5 Produk terlaris\n",
    "df_top_products = df.groupBy(\"Product\") \\\n",
    "                    .agg(count(\"*\").alias(\"total_orders\")) \\\n",
    "                    .orderBy(\"total_orders\", ascending=False) \\\n",
    "                    .limit(5)\n",
    "\n",
    "df_top_products.show()"
   ]
  },
  {
   "cell_type": "code",
   "execution_count": 9,
   "id": "0bdcc131-0e07-41d7-b893-2eff66d21a00",
   "metadata": {},
   "outputs": [],
   "source": [
    "# simpan dalam format parquet\n",
    "df_revenue.write.parquet(\"revenue_by_month.parquet\")\n",
    "df_top_products.write.parquet(\"top_products.parquet\")"
   ]
  }
 ],
 "metadata": {
  "kernelspec": {
   "display_name": "Python 3 (ipykernel)",
   "language": "python",
   "name": "python3"
  },
  "language_info": {
   "codemirror_mode": {
    "name": "ipython",
    "version": 3
   },
   "file_extension": ".py",
   "mimetype": "text/x-python",
   "name": "python",
   "nbconvert_exporter": "python",
   "pygments_lexer": "ipython3",
   "version": "3.11.6"
  }
 },
 "nbformat": 4,
 "nbformat_minor": 5
}
